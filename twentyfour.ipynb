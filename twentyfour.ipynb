{
  "nbformat": 4,
  "nbformat_minor": 0,
  "metadata": {
    "colab": {
      "name": "twentyfour.ipynb",
      "version": "0.3.2",
      "provenance": [],
      "collapsed_sections": []
    },
    "kernelspec": {
      "name": "python3",
      "display_name": "Python 3"
    }
  },
  "cells": [
    {
      "cell_type": "code",
      "metadata": {
        "id": "RL7S3Er0wO6t",
        "colab_type": "code",
        "colab": {}
      },
      "source": [
        "from itertools import permutations as p"
      ],
      "execution_count": 0,
      "outputs": []
    },
    {
      "cell_type": "code",
      "metadata": {
        "id": "rTWvMsrUwecj",
        "colab_type": "code",
        "colab": {}
      },
      "source": [
        "def twentyfour(nums, target):\n",
        "  np = list(p(nums))\n",
        "  opl = list(p([0, 0, 0, 1, 1, 1, 2, 2, 2, 3, 3, 3], 3))\n",
        "  \n",
        "  eps = 0.00000001\n",
        "  \n",
        "  def op(n, o):\n",
        "    if o == 0:\n",
        "      return n[0] + n[1]\n",
        "    elif o == 1:\n",
        "      return n[0] - n[1]\n",
        "    elif o == 2:\n",
        "      return n[0] * n[1]\n",
        "    elif o == 3:\n",
        "      if n[1] != 0:\n",
        "        return n[0] / n[1]\n",
        "      else:\n",
        "        return 9999999\n",
        "  \n",
        "  for npind in range(len(np)):\n",
        "    for opind in range(len(opl)):\n",
        "      \n",
        "      res1 = op([np[npind][0], np[npind][1]],opl[opind][0]);\n",
        "      \n",
        "      resA2 = op([res1, np[npind][2]], opl[opind][1]);\n",
        "      resA = op([resA2, np[npind][3]], opl[opind][2]);\n",
        "      \n",
        "      if abs(resA - target) <= eps:\n",
        "        return [\"((a $ b) $ c) $ d\", np[npind], opl[opind], \"+, -, *, /\"]\n",
        "        \n",
        "      resB2 = op([np[npind][2], res1], opl[opind][1]);\n",
        "      resB = op([resB2, np[npind][3]], opl[opind][2]);\n",
        "      \n",
        "      if abs(resB - target) <= eps:\n",
        "        return [\"(c $ (a $ b)) $ d\", np[npind], opl[opind], \"+, -, *, /\"]\n",
        "        \n",
        "      resC2 = op([res1, np[npind][2]], opl[opind][1]);\n",
        "      resC = op([np[npind][3], resC2], opl[opind][2]);\n",
        "      \n",
        "      if abs(resC - target) <= eps:\n",
        "        return [\"d $ ((a $ b) $ c)\", np[npind], opl[opind], \"+, -, *, /\"]\n",
        "        \n",
        "      resD2 = op([np[npind][2], res1], opl[opind][1]);\n",
        "      resD = op([np[npind][3], resD2], opl[opind][2]);\n",
        "      \n",
        "      if abs(resD - target) <= eps:\n",
        "        return [\"d $ (c $ (a $ b))\", np[npind], opl[opind], \"+, -, *, /\"]\n",
        "       \n",
        "            "
      ],
      "execution_count": 0,
      "outputs": []
    },
    {
      "cell_type": "code",
      "metadata": {
        "id": "ZMwsXCW1UBis",
        "colab_type": "code",
        "colab": {
          "base_uri": "https://localhost:8080/",
          "height": 34
        },
        "outputId": "ed019507-5c4c-4606-84ce-53deed817d57"
      },
      "source": [
        "twentyfour([2, 3, 5, 12], 24)"
      ],
      "execution_count": 3,
      "outputs": [
        {
          "output_type": "execute_result",
          "data": {
            "text/plain": [
              "['d $ (c $ (a $ b))', (5, 2, 3, 12), (3, 1, 3), '+, -, *, /']"
            ]
          },
          "metadata": {
            "tags": []
          },
          "execution_count": 3
        }
      ]
    }
  ]
}